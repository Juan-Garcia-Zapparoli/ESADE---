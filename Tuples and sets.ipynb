{
 "cells": [
  {
   "cell_type": "code",
   "execution_count": 1,
   "id": "f934ca84-4ad1-4e14-8f1a-94c1647b7c31",
   "metadata": {},
   "outputs": [],
   "source": [
    "###Tuples and sets"
   ]
  },
  {
   "cell_type": "code",
   "execution_count": 2,
   "id": "52064e94-89b7-4206-b284-18e61caa11ea",
   "metadata": {},
   "outputs": [
    {
     "name": "stdout",
     "output_type": "stream",
     "text": [
      "X value: 4 Y value: 10\n"
     ]
    }
   ],
   "source": [
    "###Exercise 6: Tuples\n",
    "coordinates = (4, 10)\n",
    "print(f\"X value: {coordinates[0]} Y value: {coordinates[1]}\")"
   ]
  },
  {
   "cell_type": "code",
   "execution_count": 3,
   "id": "4c945afc-bae3-4e72-a8f3-9316806e3a4a",
   "metadata": {},
   "outputs": [
    {
     "name": "stdout",
     "output_type": "stream",
     "text": [
      "The set with the colors added: {'blue', 'pink', 'red', 'green'}\n",
      "Set discarding pink: {'blue', 'red', 'green'}\n",
      "The merged set is: {'blue', 'red', 'green', 'pink', 'yellow'}\n"
     ]
    }
   ],
   "source": [
    "###Exercise 7: Sets\n",
    "colors = {\"red\", \"green\", \"blue\"}\n",
    "colors.add(\"pink\")\n",
    "colors.add(\"red\")\n",
    "print (f\"The set with the colors added: {colors}\")\n",
    "###The program has not added the repeated color\n",
    "colors.discard(\"pink\")\n",
    "print (f\"Set discarding pink: {colors}\")\n",
    "light_colors = {\"pink\", \"yellow\"}\n",
    "###Merging\n",
    "merged_set=colors.union(light_colors)\n",
    "print (f\"The merged set is: {merged_set}\")"
   ]
  },
  {
   "cell_type": "code",
   "execution_count": null,
   "id": "0d897bd2-2e19-460b-bebc-c317eab798b4",
   "metadata": {},
   "outputs": [],
   "source": []
  }
 ],
 "metadata": {
  "kernelspec": {
   "display_name": "Python 3 (ipykernel)",
   "language": "python",
   "name": "python3"
  },
  "language_info": {
   "codemirror_mode": {
    "name": "ipython",
    "version": 3
   },
   "file_extension": ".py",
   "mimetype": "text/x-python",
   "name": "python",
   "nbconvert_exporter": "python",
   "pygments_lexer": "ipython3",
   "version": "3.12.4"
  }
 },
 "nbformat": 4,
 "nbformat_minor": 5
}
