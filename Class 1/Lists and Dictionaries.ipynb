{
 "cells": [
  {
   "cell_type": "code",
   "execution_count": null,
   "id": "8f800383-24ce-4fcc-813c-2d3cf338ae6b",
   "metadata": {},
   "outputs": [],
   "source": [
    "###List and dictionaries"
   ]
  },
  {
   "cell_type": "code",
   "execution_count": 1,
   "id": "a02c54e0-b86f-4194-8dd0-4eeb1e814e92",
   "metadata": {},
   "outputs": [
    {
     "name": "stdout",
     "output_type": "stream",
     "text": [
      "This is a list of spanish universities ['ESADE', 'UCM', 'UAM', 'UPM', 'UAH']\n",
      "This is a the first university ESADE and the last one is UAH\n"
     ]
    }
   ],
   "source": [
    "### Exercise 4 Lists\n",
    "universities = [\"ESADE\", \"UCM\", \"UAM\", \"UPM\", \"UAH\"]\n",
    "print(f\"This is a list of spanish universities {universities}\")\n",
    "print(f\"This is a the first university {universities[0]} and the last one is {universities[-1]}\")"
   ]
  },
  {
   "cell_type": "code",
   "execution_count": 2,
   "id": "4b39b81d-e35c-4e95-b6db-3c02c266dad2",
   "metadata": {},
   "outputs": [
    {
     "name": "stdout",
     "output_type": "stream",
     "text": [
      "name equals to  Juan Pablo\n",
      "age equals to  25\n",
      "grade equals to  100\n"
     ]
    }
   ],
   "source": [
    "### Exercise 5 Dictionaries\n",
    "student = {\"name\": \"Juan Pablo\",\"age\": 25, \"grade\": 100}\n",
    "for keys, values in student.items():\n",
    "    print(f\"{keys} equals to  {values}\")"
   ]
  },
  {
   "cell_type": "code",
   "execution_count": null,
   "id": "61f90233-6087-49ab-bb1a-ced1eb15c88b",
   "metadata": {},
   "outputs": [],
   "source": []
  },
  {
   "cell_type": "code",
   "execution_count": null,
   "id": "da8bec39-5e7b-4073-b72f-9776d6b415e5",
   "metadata": {},
   "outputs": [],
   "source": []
  }
 ],
 "metadata": {
  "kernelspec": {
   "display_name": "Python 3 (ipykernel)",
   "language": "python",
   "name": "python3"
  },
  "language_info": {
   "codemirror_mode": {
    "name": "ipython",
    "version": 3
   },
   "file_extension": ".py",
   "mimetype": "text/x-python",
   "name": "python",
   "nbconvert_exporter": "python",
   "pygments_lexer": "ipython3",
   "version": "3.12.4"
  }
 },
 "nbformat": 4,
 "nbformat_minor": 5
}
