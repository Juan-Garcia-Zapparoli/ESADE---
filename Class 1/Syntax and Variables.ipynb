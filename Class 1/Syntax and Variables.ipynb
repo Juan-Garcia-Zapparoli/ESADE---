{
 "cells": [
  {
   "cell_type": "code",
   "execution_count": 1,
   "id": "44a34baa-161c-4098-9f85-49a598a35b4a",
   "metadata": {},
   "outputs": [],
   "source": [
    "###Syntax and Variables"
   ]
  },
  {
   "cell_type": "code",
   "execution_count": 2,
   "id": "34840076-9f52-44f2-bac3-6faa1eeda422",
   "metadata": {},
   "outputs": [
    {
     "name": "stdout",
     "output_type": "stream",
     "text": [
      "Hello, Python!\n"
     ]
    }
   ],
   "source": [
    "### Exercise 1: Print a Greeting\n",
    "print(\"Hello, Python!\")"
   ]
  },
  {
   "cell_type": "code",
   "execution_count": 20,
   "id": "8cb62b76-62af-42d5-a4ca-953c737178b7",
   "metadata": {},
   "outputs": [
    {
     "name": "stdout",
     "output_type": "stream",
     "text": [
      "The number are 10 and 20, the sum equals 30, difference equals -10, Product equals 200 and quotient equals 0 \n"
     ]
    }
   ],
   "source": [
    "### Exercise 2: Print a Basic Arithmetic\n",
    "a = 10\n",
    "b = 20\n",
    "Sum = a+b\n",
    "Difference = a-b\n",
    "Product = a*b\n",
    "Quotient = a//b\n",
    "\n",
    "print(f\"The number are {a} and {b}, the sum equals {Sum}, difference equals {Difference}, Product equals {Product} and quotient equals {Quotient} \")"
   ]
  },
  {
   "cell_type": "code",
   "execution_count": 28,
   "id": "308c3fe0-0003-4d0e-bb34-52cf5d51c070",
   "metadata": {},
   "outputs": [
    {
     "name": "stdout",
     "output_type": "stream",
     "text": [
      "Hello Juan Pablo\n"
     ]
    }
   ],
   "source": [
    "### Exercise 3 String Manipulation\n",
    "name = \"Juan Pablo\"\n",
    "print(f\"Hello {name}\")"
   ]
  }
 ],
 "metadata": {
  "kernelspec": {
   "display_name": "Python 3 (ipykernel)",
   "language": "python",
   "name": "python3"
  },
  "language_info": {
   "codemirror_mode": {
    "name": "ipython",
    "version": 3
   },
   "file_extension": ".py",
   "mimetype": "text/x-python",
   "name": "python",
   "nbconvert_exporter": "python",
   "pygments_lexer": "ipython3",
   "version": "3.12.4"
  }
 },
 "nbformat": 4,
 "nbformat_minor": 5
}
