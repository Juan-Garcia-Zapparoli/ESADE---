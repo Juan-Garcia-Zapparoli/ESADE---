{
 "cells": [
  {
   "cell_type": "code",
   "execution_count": 1,
   "id": "f4c9a388-cdbd-4ace-80ee-bd076022e0e2",
   "metadata": {},
   "outputs": [
    {
     "name": "stdout",
     "output_type": "stream",
     "text": [
      "[1, 4, 9, 16, 25, 36, 49, 64, 81, 100]\n"
     ]
    }
   ],
   "source": [
    "###Exercise 15: List Comprehension\n",
    "###Create a list of numbers from 1 to 10.\n",
    "list_numbers=[1,2,3,4,5,6,7,8,9,10]\n",
    "list_squares = list()\n",
    "###Use list comprehension to create a new list that contains the squares of these numbers.\n",
    "for i in list_numbers : \n",
    "    i2 = i*i\n",
    "    list_squares.append(i2)\n",
    "   \n",
    "###Print the new list.\n",
    "print (list_squares)\n"
   ]
  },
  {
   "cell_type": "code",
   "execution_count": 2,
   "id": "c707a045-abcb-4552-b491-e266b97fc756",
   "metadata": {},
   "outputs": [
    {
     "name": "stdout",
     "output_type": "stream",
     "text": [
      "Juan Pablo average grade is 86.75\n",
      "Mariana average grade is 87.33\n",
      "Jose average grade is 67.20\n"
     ]
    }
   ],
   "source": [
    "###Exercise 16: Nested Data Structures\n",
    "###Create a dictionary where the keys are names of students and the values are lists of their grades.\n",
    "students = {\"Juan Pablo\" : [85, 86, 89, 87], \"Mariana\" : [85, 88, 89], \"Jose\" : [85, 88, 89, 44 , 30]}\n",
    "###Write a function that takes the dictionary and prints the average grade for each student.\n",
    "def average_function(dictionary):\n",
    "    for a in dictionary.keys():\n",
    "        sum = 0\n",
    "        average = 0\n",
    "        quantity_grades = 0\n",
    "        for b in dictionary[a]:\n",
    "            sum = sum + b\n",
    "            quantity_grades += 1\n",
    "        average = sum / quantity_grades\n",
    "        print(f\"{a} average grade is {average:.2f}\")\n",
    "\n",
    "average_function(students)\n",
    "\n"
   ]
  },
  {
   "cell_type": "code",
   "execution_count": 3,
   "id": "98e30afb-2f7c-4812-895b-e60d099e39a5",
   "metadata": {},
   "outputs": [
    {
     "name": "stdin",
     "output_type": "stream",
     "text": [
      "Please introduce first number 1\n",
      "Please introduce second number 4\n",
      "Please introduce operator ´+ - * /´ *\n"
     ]
    },
    {
     "name": "stdout",
     "output_type": "stream",
     "text": [
      "1.0 * 4.0 = 4.0\n"
     ]
    }
   ],
   "source": [
    "###Exercise 17: Simple Calculator\n",
    "###Write a program that:\n",
    "def calculator (a,b,c):\n",
    "    match c :\n",
    "        case \"+\": \n",
    "            print(f\"{a} + {b} = \", a+b)\n",
    "        case \"-\": \n",
    "            print(f\"{a} - {b} = \", a-b)\n",
    "        case \"*\":\n",
    "            print(f\"{a} * {b} =\", a*b)\n",
    "        case \"/\":\n",
    "            print(f\"{a} / {b} =\", a/b)\n",
    "        case _:\n",
    "            print(\"Please enter a valid operator\")\n",
    "\n",
    "number1 = float(input(\"Please introduce first number\"))\n",
    "number2 = float(input(\"Please introduce second number\"))\n",
    "operator = input(\"Please introduce operator ´+ - * /´\")\n",
    "calculator(number1, number2, operator)"
   ]
  },
  {
   "cell_type": "code",
   "execution_count": null,
   "id": "2a9ef28e-b7e0-408d-a4eb-999cc77cc39f",
   "metadata": {},
   "outputs": [],
   "source": []
  }
 ],
 "metadata": {
  "kernelspec": {
   "display_name": "Python 3 (ipykernel)",
   "language": "python",
   "name": "python3"
  },
  "language_info": {
   "codemirror_mode": {
    "name": "ipython",
    "version": 3
   },
   "file_extension": ".py",
   "mimetype": "text/x-python",
   "name": "python",
   "nbconvert_exporter": "python",
   "pygments_lexer": "ipython3",
   "version": "3.12.4"
  }
 },
 "nbformat": 4,
 "nbformat_minor": 5
}
