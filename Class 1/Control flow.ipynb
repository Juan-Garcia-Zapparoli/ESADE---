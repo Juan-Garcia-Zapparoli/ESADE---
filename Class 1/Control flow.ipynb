{
 "cells": [
  {
   "cell_type": "code",
   "execution_count": 1,
   "id": "dd2faf06-56e1-4d85-b12e-03f6499c851b",
   "metadata": {},
   "outputs": [],
   "source": [
    "###Tuples and sets"
   ]
  },
  {
   "cell_type": "code",
   "execution_count": 2,
   "id": "7e1e3ac8-db4b-4bda-950c-90218cdb013e",
   "metadata": {},
   "outputs": [
    {
     "name": "stdin",
     "output_type": "stream",
     "text": [
      "Please introduce number 99\n"
     ]
    },
    {
     "name": "stdout",
     "output_type": "stream",
     "text": [
      "99.0 is a positive number\n"
     ]
    }
   ],
   "source": [
    "###Exercise 8: Conditional Statements\n",
    "a = input(\"Please introduce number\")\n",
    "a = float(a)\n",
    "if a < 0 :\n",
    "    print(f\"{a} is a negative number\")\n",
    "elif a==0 :\n",
    "    print(f\"{a} is zero\")\n",
    "elif a>0 :\n",
    "    print(f\"{a} is a positive number\")"
   ]
  },
  {
   "cell_type": "code",
   "execution_count": 3,
   "id": "b0c85bce-934c-42d5-bb62-04360a404362",
   "metadata": {},
   "outputs": [
    {
     "name": "stdout",
     "output_type": "stream",
     "text": [
      "The number is 1\n",
      "The number is 2\n",
      "The number is 3\n",
      "The number is 4\n",
      "The number is 5\n"
     ]
    }
   ],
   "source": [
    "###Exercise 9: For loop\n",
    "list=[1,2,3,4,5]\n",
    "for i in list:\n",
    "    print(f\"The number is {i}\")"
   ]
  },
  {
   "cell_type": "code",
   "execution_count": 4,
   "id": "adb7fd1d-bcd4-448c-ab8c-3d30ec3f127a",
   "metadata": {},
   "outputs": [
    {
     "name": "stdout",
     "output_type": "stream",
     "text": [
      "The number is 1\n",
      "The number is 2\n",
      "The number is 3\n",
      "The number is 4\n",
      "The number is 5\n"
     ]
    }
   ],
   "source": [
    "###Exercise 10: While loop\n",
    "counter = 1\n",
    "while counter <6 :\n",
    "    print(f\"The number is {counter}\")\n",
    "    counter +=1"
   ]
  },
  {
   "cell_type": "code",
   "execution_count": 5,
   "id": "dfe8f314-f3d1-4b0c-8060-52c04d2f539e",
   "metadata": {},
   "outputs": [
    {
     "name": "stdin",
     "output_type": "stream",
     "text": [
      "Please introduce grade: A, B, C, D, F R\n"
     ]
    },
    {
     "name": "stdout",
     "output_type": "stream",
     "text": [
      "Invalid grade, please introduce a valid command 'A, B, C, D, F'\n"
     ]
    }
   ],
   "source": [
    "###Exercise 11: Match Statement\n",
    "grade = input(\"Please introduce grade: A, B, C, D, F\")\n",
    "match grade :\n",
    "    case \"A\": \n",
    "        print(\"Excellent!\")\n",
    "    case \"B\": \n",
    "        print(\"Good job!\")\n",
    "    case \"C\": \n",
    "        print(\"Fair.\")\n",
    "    case \"D\": \n",
    "        print(\"Needs improvement.\")\n",
    "    case \"F\": \n",
    "        print(\"Failing\")\n",
    "    case _:\n",
    "        print(\"Invalid grade, please introduce a valid command 'A, B, C, D, F'\")"
   ]
  },
  {
   "cell_type": "code",
   "execution_count": null,
   "id": "4c285bfd-fe75-435a-b5cd-3ce7151228a0",
   "metadata": {},
   "outputs": [],
   "source": []
  }
 ],
 "metadata": {
  "kernelspec": {
   "display_name": "Python 3 (ipykernel)",
   "language": "python",
   "name": "python3"
  },
  "language_info": {
   "codemirror_mode": {
    "name": "ipython",
    "version": 3
   },
   "file_extension": ".py",
   "mimetype": "text/x-python",
   "name": "python",
   "nbconvert_exporter": "python",
   "pygments_lexer": "ipython3",
   "version": "3.12.4"
  }
 },
 "nbformat": 4,
 "nbformat_minor": 5
}
