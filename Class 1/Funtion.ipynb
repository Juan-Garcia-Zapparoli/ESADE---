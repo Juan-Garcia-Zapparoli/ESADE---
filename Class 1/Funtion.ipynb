{
 "cells": [
  {
   "cell_type": "code",
   "execution_count": 1,
   "id": "60a32472-faa3-4e6f-b501-6e187ff998cd",
   "metadata": {},
   "outputs": [],
   "source": [
    "###Function"
   ]
  },
  {
   "cell_type": "code",
   "execution_count": 2,
   "id": "6235785e-0083-4826-b590-509ea532db9f",
   "metadata": {},
   "outputs": [
    {
     "name": "stdout",
     "output_type": "stream",
     "text": [
      "Hi Juan Pablo\n"
     ]
    }
   ],
   "source": [
    "###Exercise 12: Define a Function\n",
    "name= \"Juan Pablo\"\n",
    "def Greet (name):\n",
    "    print(f\"Hi {name}\")\n",
    "\n",
    "Greet(name)"
   ]
  },
  {
   "cell_type": "code",
   "execution_count": 23,
   "id": "fc781515-d90d-485b-8298-7f2645e4f33d",
   "metadata": {},
   "outputs": [
    {
     "name": "stdout",
     "output_type": "stream",
     "text": [
      "25\n",
      "100\n",
      "225\n"
     ]
    }
   ],
   "source": [
    "###Exercise 13: Function with Return Value\n",
    "def square (a):\n",
    "    square_number = a*a\n",
    "    return square_number\n",
    "\n",
    "print(square(5))\n",
    "print(square(10))\n",
    "print(square(15))"
   ]
  },
  {
   "cell_type": "code",
   "execution_count": 25,
   "id": "7226adff-b049-46cb-bf86-19380219adbf",
   "metadata": {},
   "outputs": [
    {
     "name": "stdout",
     "output_type": "stream",
     "text": [
      "50\n",
      "5\n"
     ]
    }
   ],
   "source": [
    "###Exercise 14: Function with Default Parameters\n",
    "def multiplication (a, b=1):\n",
    "    c = a*b\n",
    "    return c\n",
    "\n",
    "print(multiplication(5, 10))\n",
    "print(multiplication(5))"
   ]
  }
 ],
 "metadata": {
  "kernelspec": {
   "display_name": "Python 3 (ipykernel)",
   "language": "python",
   "name": "python3"
  },
  "language_info": {
   "codemirror_mode": {
    "name": "ipython",
    "version": 3
   },
   "file_extension": ".py",
   "mimetype": "text/x-python",
   "name": "python",
   "nbconvert_exporter": "python",
   "pygments_lexer": "ipython3",
   "version": "3.12.4"
  }
 },
 "nbformat": 4,
 "nbformat_minor": 5
}
