{
 "cells": [
  {
   "cell_type": "code",
   "execution_count": 7,
   "metadata": {},
   "outputs": [],
   "source": [
    "###Exercise 3: Simple To-Do List\n",
    "todo_list = []\n",
    "def add_task(task):\n",
    "    todo_list.append(task)\n",
    "\n",
    "def show_task():\n",
    "    print(todo_list)\n",
    "\n"
   ]
  },
  {
   "cell_type": "code",
   "execution_count": 12,
   "metadata": {},
   "outputs": [
    {
     "name": "stdout",
     "output_type": "stream",
     "text": [
      "['comprar comida', 'lavar ropa', 'Hacer tareas']\n"
     ]
    }
   ],
   "source": [
    "a=input(\"What would you like to do? 1- Add task, 2- Show tasks\")\n",
    "if a==\"1\":\n",
    "    b=input(\"Enter task\")\n",
    "    add_task(b)\n",
    "elif a==\"2\":\n",
    "    show_task()\n",
    "else :\n",
    "    print(\"Number entered not valid\")\n",
    "\n",
    "\n",
    "\n"
   ]
  }
 ],
 "metadata": {
  "kernelspec": {
   "display_name": "base",
   "language": "python",
   "name": "python3"
  },
  "language_info": {
   "codemirror_mode": {
    "name": "ipython",
    "version": 3
   },
   "file_extension": ".py",
   "mimetype": "text/x-python",
   "name": "python",
   "nbconvert_exporter": "python",
   "pygments_lexer": "ipython3",
   "version": "3.12.4"
  }
 },
 "nbformat": 4,
 "nbformat_minor": 2
}
