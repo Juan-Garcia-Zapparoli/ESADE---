{
 "cells": [
  {
   "cell_type": "code",
   "execution_count": 3,
   "metadata": {},
   "outputs": [
    {
     "name": "stdout",
     "output_type": "stream",
     "text": [
      "22ºC equals 71.6ºF\n",
      "46ºC equals 114.8ºF\n",
      "51ºC equals 123.8ºF\n",
      "76ºC equals 168.8ºF\n"
     ]
    }
   ],
   "source": [
    "###  Exercise 4: Temperature Converter\n",
    "def celsius_to_farhrenheit(celcius):\n",
    "    F = (celcius*1.8) +32\n",
    "    print(f\"{celcius}ºC equals {F}ºF\")\n",
    "celsius_to_farhrenheit(22)\n",
    "celsius_to_farhrenheit(46)\n",
    "celsius_to_farhrenheit(51)\n",
    "celsius_to_farhrenheit(76)"
   ]
  }
 ],
 "metadata": {
  "kernelspec": {
   "display_name": "base",
   "language": "python",
   "name": "python3"
  },
  "language_info": {
   "codemirror_mode": {
    "name": "ipython",
    "version": 3
   },
   "file_extension": ".py",
   "mimetype": "text/x-python",
   "name": "python",
   "nbconvert_exporter": "python",
   "pygments_lexer": "ipython3",
   "version": "3.12.4"
  }
 },
 "nbformat": 4,
 "nbformat_minor": 2
}
