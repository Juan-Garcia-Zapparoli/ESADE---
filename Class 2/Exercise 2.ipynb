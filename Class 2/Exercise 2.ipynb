{
 "cells": [
  {
   "cell_type": "code",
   "execution_count": 1,
   "metadata": {},
   "outputs": [
    {
     "name": "stdout",
     "output_type": "stream",
     "text": [
      "[4, 5, 7, 9]\n"
     ]
    }
   ],
   "source": [
    "###Exercise 2: Basic Data Filtering\n",
    "###Create a List of Mixed Data Types: Create a list that contains a mix of integers, strings, and floats.\n",
    "Mixed_list = [4, \"Juan\", 3.14, \"ESADE\", 5, \"Pablo\", 7, 8.0, 9, 9.44, 10.9]\n",
    "Integer_list = []\n",
    "##Filter the List: Use list comprehension to create a new list that contains only the integers from the original list.\n",
    "for i in Mixed_list:\n",
    "    ##Print the New List: Output the filtered list of integers.\n",
    "    if isinstance(i, int):\n",
    "        Integer_list.append(i)\n",
    "\n",
    "print(Integer_list)"
   ]
  }
 ],
 "metadata": {
  "kernelspec": {
   "display_name": "base",
   "language": "python",
   "name": "python3"
  },
  "language_info": {
   "codemirror_mode": {
    "name": "ipython",
    "version": 3
   },
   "file_extension": ".py",
   "mimetype": "text/x-python",
   "name": "python",
   "nbconvert_exporter": "python",
   "pygments_lexer": "ipython3",
   "version": "3.12.4"
  }
 },
 "nbformat": 4,
 "nbformat_minor": 2
}
